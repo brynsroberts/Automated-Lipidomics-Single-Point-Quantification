{
 "cells": [
  {
   "cell_type": "code",
   "execution_count": 17,
   "metadata": {},
   "outputs": [],
   "source": [
    "import pandas as pd\n",
    "import numpy as np\n",
    "import re\n",
    "import csv\n",
    "from pathlib import Path"
   ]
  },
  {
   "cell_type": "code",
   "execution_count": 18,
   "metadata": {},
   "outputs": [],
   "source": [
    "FIRST_COLUMN = 1\n",
    "FIRST_ROW = 1\n",
    "SECOND_ROW = 2"
   ]
  },
  {
   "cell_type": "code",
   "execution_count": 19,
   "metadata": {},
   "outputs": [],
   "source": [
    "def set_standards_from_csv(prompt):\n",
    "    \"\"\"\n",
    "    open csv file containing standards information and return as dictionary of data\n",
    "    \"\"\"\n",
    "\n",
    "    file_path = input(prompt)\n",
    "    standards_file = open(file_path)\n",
    "    reader = csv.reader(standards_file)\n",
    "    standards_data = list(reader)\n",
    "\n",
    "    # populate standards dictionary from file\n",
    "    standards = {}\n",
    "    for row in range(FIRST_ROW, len(standards_data)):\n",
    "        name = standards_data[row][0]\n",
    "        concentration = standards_data[row][1]\n",
    "        standards[name] = {\n",
    "            \"Row\": 0, \"ID\": 0, \"Concentration\": concentration}\n",
    "    return standards"
   ]
  },
  {
   "cell_type": "code",
   "execution_count": 20,
   "metadata": {},
   "outputs": [
    {
     "name": "stdout",
     "output_type": "stream",
     "text": [
      "Enter full file path for csv file containing standards information: /Users/newuser/Desktop/semi-quant-test/posCSH_standards.csv\n"
     ]
    }
   ],
   "source": [
    "standards = set_standards_from_csv(\n",
    "        \"Enter full file path for csv file containing standards information: \")"
   ]
  },
  {
   "cell_type": "code",
   "execution_count": 21,
   "metadata": {},
   "outputs": [
    {
     "name": "stdout",
     "output_type": "stream",
     "text": [
      "Enter full file path for data excel sheet: /Users/newuser/Desktop/semi-quant-test/semi-quant test.xlsx\n"
     ]
    }
   ],
   "source": [
    "df_path = input(\"Enter full file path for data excel sheet: \")"
   ]
  },
  {
   "cell_type": "code",
   "execution_count": 35,
   "metadata": {},
   "outputs": [],
   "source": [
    "df = pd.read_excel(df_path)"
   ]
  },
  {
   "cell_type": "code",
   "execution_count": 85,
   "metadata": {},
   "outputs": [],
   "source": [
    "def set_named_constant(df, pattern):\n",
    "    \"\"\"\n",
    "    set named constants based on row matching regex pattern for excel sheet entered\n",
    "    \"\"\"\n",
    "\n",
    "    regex_pattern = re.compile(pattern)\n",
    "    for column_name in df.columns:\n",
    "        found = regex_pattern.search(column_name.lower())\n",
    "        if found != None:\n",
    "            return column_name"
   ]
  },
  {
   "cell_type": "code",
   "execution_count": 86,
   "metadata": {},
   "outputs": [],
   "source": [
    "ISTD_MATCH_COLUMN = set_named_constant(df, r'number')\n",
    "ANNOTATION_NAME_COLUMN = set_named_constant(df, r'name')"
   ]
  },
  {
   "cell_type": "code",
   "execution_count": 107,
   "metadata": {},
   "outputs": [],
   "source": [
    "def set_sample_name_list(df, pattern):\n",
    "    \"\"\"\n",
    "    set named constants based on row matching regex pattern for excel sheet entered\n",
    "    \"\"\"\n",
    "    sample_names = []\n",
    "    regex_pattern = re.compile(pattern)\n",
    "    for column_name in df.columns:\n",
    "        found = regex_pattern.search(column_name.lower())\n",
    "        if found != None:\n",
    "            sample_names.append(column_name)\n",
    "    return sample_names"
   ]
  },
  {
   "cell_type": "code",
   "execution_count": 108,
   "metadata": {},
   "outputs": [],
   "source": [
    "sample_names = set_sample_name_list(df,r'[a-z0-9A-Z]+_[a-z0-9A-Z]+_[a-zA-Z]+')"
   ]
  },
  {
   "cell_type": "code",
   "execution_count": null,
   "metadata": {},
   "outputs": [],
   "source": []
  },
  {
   "cell_type": "code",
   "execution_count": 87,
   "metadata": {},
   "outputs": [],
   "source": [
    "def set_standard_row_id(df, standards):\n",
    "    \"\"\"\n",
    "    searches sheet to find values for values \"Row\" and \"ID\" and populates the keys\n",
    "    \"\"\"\n",
    "\n",
    "    for standard_name in standards:\n",
    "\n",
    "        for row in range(len(df)):\n",
    "            \n",
    "            if standard_name == df[ANNOTATION_NAME_COLUMN][row]:\n",
    "                \n",
    "                standards[standard_name][\"Row\"] = row\n",
    "                standards[standard_name][\"ID\"] = df[ISTD_MATCH_COLUMN][row]"
   ]
  },
  {
   "cell_type": "code",
   "execution_count": 88,
   "metadata": {},
   "outputs": [],
   "source": [
    "set_standard_row_id(df,standards)"
   ]
  },
  {
   "cell_type": "code",
   "execution_count": 117,
   "metadata": {},
   "outputs": [],
   "source": [
    "def find_matching_istd(df,row,standards):\n",
    "    \"\"\"\n",
    "    finds row of internal standard to match with compound in row r\n",
    "    \"\"\"\n",
    "\n",
    "    for standard_name in standards:\n",
    "\n",
    "        if standards[standard_name]['ID'] == df[ISTD_MATCH_COLUMN][row]:\n",
    "\n",
    "            return standard_name"
   ]
  },
  {
   "cell_type": "code",
   "execution_count": 130,
   "metadata": {},
   "outputs": [],
   "source": [
    "def calculate_results(df,sample_name_list,standards):\n",
    "    \"\"\"\n",
    "    calculates concentration based on iSTD single point quant for all compounds across all samples\n",
    "    \"\"\"\n",
    "\n",
    "    for sample in sample_name_list:\n",
    "\n",
    "        for row in range(len(df)):\n",
    "\n",
    "            standard = find_matching_istd(df,row,standards)\n",
    "            standard_row = standards[standard][\"Row\"]\n",
    "            standard_concentration = standards[standard][\"Concentration\"]\n",
    "\n",
    "            native_height = df[sample][row]\n",
    "\n",
    "            istd_height = df[sample][standard_row]\n",
    "\n",
    "            result = ((native_height / istd_height) * float(standard_concentration)) / extraction_amount\n",
    "            df.loc[row,sample] = result\n"
   ]
  },
  {
   "cell_type": "code",
   "execution_count": null,
   "metadata": {},
   "outputs": [],
   "source": []
  },
  {
   "cell_type": "code",
   "execution_count": 131,
   "metadata": {},
   "outputs": [],
   "source": [
    "extraction_amount = 1\n",
    "calculate_results(df,sample_names,standards)"
   ]
  },
  {
   "cell_type": "code",
   "execution_count": 132,
   "metadata": {},
   "outputs": [
    {
     "data": {
      "text/html": [
       "<div>\n",
       "<style scoped>\n",
       "    .dataframe tbody tr th:only-of-type {\n",
       "        vertical-align: middle;\n",
       "    }\n",
       "\n",
       "    .dataframe tbody tr th {\n",
       "        vertical-align: top;\n",
       "    }\n",
       "\n",
       "    .dataframe thead th {\n",
       "        text-align: right;\n",
       "    }\n",
       "</style>\n",
       "<table border=\"1\" class=\"dataframe\">\n",
       "  <thead>\n",
       "    <tr style=\"text-align: right;\">\n",
       "      <th></th>\n",
       "      <th>identifier</th>\n",
       "      <th>Average Mz</th>\n",
       "      <th>Average Rt(min)</th>\n",
       "      <th>iSTD Matching Number</th>\n",
       "      <th>Metabolite name</th>\n",
       "      <th>Species</th>\n",
       "      <th>InChI Key</th>\n",
       "      <th>Biorec001_MX530103_posCSH_preZhu001</th>\n",
       "      <th>Biorec002_MX530103_posCSH_postZhu010</th>\n",
       "      <th>Biorec003_MX530103_posCSH_postZhu020</th>\n",
       "      <th>...</th>\n",
       "      <th>Zhu096_MX530103_posCSH_0129720885-052</th>\n",
       "      <th>Zhu097_MX530103_posCSH_0194492743-020</th>\n",
       "      <th>Zhu098_MX530103_posCSH_0192334749-019</th>\n",
       "      <th>Zhu099_MX530103_posCSH_0217913348-021</th>\n",
       "      <th>Zhu100_MX530103_posCSH_0217901688-104</th>\n",
       "      <th>Zhu101_MX530103_posCSH_1133563814-105</th>\n",
       "      <th>Zhu102_MX530103_posCSH_1133561271-103</th>\n",
       "      <th>Zhu103_MX530103_posCSH_0217894031-034</th>\n",
       "      <th>Zhu104_MX530103_posCSH_1132060209-036</th>\n",
       "      <th>Zhu105_MX530103_posCSH_1133597402-035</th>\n",
       "    </tr>\n",
       "  </thead>\n",
       "  <tbody>\n",
       "    <tr>\n",
       "      <th>0</th>\n",
       "      <td>3.42_636.46</td>\n",
       "      <td>636.4627</td>\n",
       "      <td>3.422</td>\n",
       "      <td>1</td>\n",
       "      <td>1_PC 12:0/13:0 iSTD</td>\n",
       "      <td>[M+H]+</td>\n",
       "      <td>FCTBVSCBBWKZML-WJOKGBTCSA-N</td>\n",
       "      <td>10.0</td>\n",
       "      <td>10.0</td>\n",
       "      <td>10.0</td>\n",
       "      <td>...</td>\n",
       "      <td>10.0</td>\n",
       "      <td>10.0</td>\n",
       "      <td>10.0</td>\n",
       "      <td>10.0</td>\n",
       "      <td>10.0</td>\n",
       "      <td>10.0</td>\n",
       "      <td>10.0</td>\n",
       "      <td>10.0</td>\n",
       "      <td>10.0</td>\n",
       "      <td>10.0</td>\n",
       "    </tr>\n",
       "    <tr>\n",
       "      <th>1</th>\n",
       "      <td>6.11_720.55</td>\n",
       "      <td>720.5543</td>\n",
       "      <td>6.110</td>\n",
       "      <td>2</td>\n",
       "      <td>1_PE 17:0/17:0 iSTD</td>\n",
       "      <td>[M+H]+</td>\n",
       "      <td>YSFFAUPDXKTJMR-DIPNUNPCSA-N</td>\n",
       "      <td>100.0</td>\n",
       "      <td>100.0</td>\n",
       "      <td>100.0</td>\n",
       "      <td>...</td>\n",
       "      <td>100.0</td>\n",
       "      <td>100.0</td>\n",
       "      <td>100.0</td>\n",
       "      <td>100.0</td>\n",
       "      <td>100.0</td>\n",
       "      <td>100.0</td>\n",
       "      <td>100.0</td>\n",
       "      <td>100.0</td>\n",
       "      <td>100.0</td>\n",
       "      <td>100.0</td>\n",
       "    </tr>\n",
       "    <tr>\n",
       "      <th>2</th>\n",
       "      <td>4.70_706.54</td>\n",
       "      <td>706.5404</td>\n",
       "      <td>4.695</td>\n",
       "      <td>1</td>\n",
       "      <td>PC 30:0</td>\n",
       "      <td>[M+H]+</td>\n",
       "      <td>RFVFQQWKPSOBED-PSXMRANNSA-N</td>\n",
       "      <td>108527.0</td>\n",
       "      <td>132047.0</td>\n",
       "      <td>130734.0</td>\n",
       "      <td>...</td>\n",
       "      <td>454319.0</td>\n",
       "      <td>221156.0</td>\n",
       "      <td>354536.0</td>\n",
       "      <td>377510.0</td>\n",
       "      <td>293307.0</td>\n",
       "      <td>338531.0</td>\n",
       "      <td>223683.0</td>\n",
       "      <td>167291.0</td>\n",
       "      <td>325542.0</td>\n",
       "      <td>280377.0</td>\n",
       "    </tr>\n",
       "    <tr>\n",
       "      <th>3</th>\n",
       "      <td>5.52_718.55</td>\n",
       "      <td>718.5451</td>\n",
       "      <td>5.517</td>\n",
       "      <td>2</td>\n",
       "      <td>PE 34:1</td>\n",
       "      <td>[M+H]+</td>\n",
       "      <td>FHQVHHIBKUMWTI-ZCXUNETKNA-N</td>\n",
       "      <td>943.0</td>\n",
       "      <td>1198.0</td>\n",
       "      <td>1204.0</td>\n",
       "      <td>...</td>\n",
       "      <td>17316.0</td>\n",
       "      <td>6998.0</td>\n",
       "      <td>4467.0</td>\n",
       "      <td>19587.0</td>\n",
       "      <td>10368.0</td>\n",
       "      <td>8498.0</td>\n",
       "      <td>10126.0</td>\n",
       "      <td>7195.0</td>\n",
       "      <td>10183.0</td>\n",
       "      <td>8766.0</td>\n",
       "    </tr>\n",
       "  </tbody>\n",
       "</table>\n",
       "<p>4 rows × 153 columns</p>\n",
       "</div>"
      ],
      "text/plain": [
       "    identifier  Average Mz  Average Rt(min)  iSTD Matching Number  \\\n",
       "0  3.42_636.46    636.4627            3.422                     1   \n",
       "1  6.11_720.55    720.5543            6.110                     2   \n",
       "2  4.70_706.54    706.5404            4.695                     1   \n",
       "3  5.52_718.55    718.5451            5.517                     2   \n",
       "\n",
       "        Metabolite name Species                    InChI Key  \\\n",
       "0  1_PC 12:0/13:0 iSTD   [M+H]+  FCTBVSCBBWKZML-WJOKGBTCSA-N   \n",
       "1  1_PE 17:0/17:0 iSTD   [M+H]+  YSFFAUPDXKTJMR-DIPNUNPCSA-N   \n",
       "2              PC 30:0   [M+H]+  RFVFQQWKPSOBED-PSXMRANNSA-N   \n",
       "3               PE 34:1  [M+H]+  FHQVHHIBKUMWTI-ZCXUNETKNA-N   \n",
       "\n",
       "   Biorec001_MX530103_posCSH_preZhu001  Biorec002_MX530103_posCSH_postZhu010  \\\n",
       "0                                 10.0                                  10.0   \n",
       "1                                100.0                                 100.0   \n",
       "2                             108527.0                              132047.0   \n",
       "3                                943.0                                1198.0   \n",
       "\n",
       "   Biorec003_MX530103_posCSH_postZhu020  ...  \\\n",
       "0                                  10.0  ...   \n",
       "1                                 100.0  ...   \n",
       "2                              130734.0  ...   \n",
       "3                                1204.0  ...   \n",
       "\n",
       "   Zhu096_MX530103_posCSH_0129720885-052  \\\n",
       "0                                   10.0   \n",
       "1                                  100.0   \n",
       "2                               454319.0   \n",
       "3                                17316.0   \n",
       "\n",
       "   Zhu097_MX530103_posCSH_0194492743-020  \\\n",
       "0                                   10.0   \n",
       "1                                  100.0   \n",
       "2                               221156.0   \n",
       "3                                 6998.0   \n",
       "\n",
       "   Zhu098_MX530103_posCSH_0192334749-019  \\\n",
       "0                                   10.0   \n",
       "1                                  100.0   \n",
       "2                               354536.0   \n",
       "3                                 4467.0   \n",
       "\n",
       "   Zhu099_MX530103_posCSH_0217913348-021  \\\n",
       "0                                   10.0   \n",
       "1                                  100.0   \n",
       "2                               377510.0   \n",
       "3                                19587.0   \n",
       "\n",
       "   Zhu100_MX530103_posCSH_0217901688-104  \\\n",
       "0                                   10.0   \n",
       "1                                  100.0   \n",
       "2                               293307.0   \n",
       "3                                10368.0   \n",
       "\n",
       "   Zhu101_MX530103_posCSH_1133563814-105  \\\n",
       "0                                   10.0   \n",
       "1                                  100.0   \n",
       "2                               338531.0   \n",
       "3                                 8498.0   \n",
       "\n",
       "   Zhu102_MX530103_posCSH_1133561271-103  \\\n",
       "0                                   10.0   \n",
       "1                                  100.0   \n",
       "2                               223683.0   \n",
       "3                                10126.0   \n",
       "\n",
       "   Zhu103_MX530103_posCSH_0217894031-034  \\\n",
       "0                                   10.0   \n",
       "1                                  100.0   \n",
       "2                               167291.0   \n",
       "3                                 7195.0   \n",
       "\n",
       "   Zhu104_MX530103_posCSH_1132060209-036  \\\n",
       "0                                   10.0   \n",
       "1                                  100.0   \n",
       "2                               325542.0   \n",
       "3                                10183.0   \n",
       "\n",
       "   Zhu105_MX530103_posCSH_1133597402-035  \n",
       "0                                   10.0  \n",
       "1                                  100.0  \n",
       "2                               280377.0  \n",
       "3                                 8766.0  \n",
       "\n",
       "[4 rows x 153 columns]"
      ]
     },
     "execution_count": 132,
     "metadata": {},
     "output_type": "execute_result"
    }
   ],
   "source": []
  },
  {
   "cell_type": "code",
   "execution_count": 133,
   "metadata": {},
   "outputs": [],
   "source": [
    "path_obj = Path(df_path)\n",
    "save_path = str(path_obj.parent/path_obj.stem) + '_SinglePointQuant.xlsx'\n",
    "df.to_excel(save_path,index=False)"
   ]
  },
  {
   "cell_type": "code",
   "execution_count": null,
   "metadata": {},
   "outputs": [],
   "source": []
  }
 ],
 "metadata": {
  "kernelspec": {
   "display_name": "Python 3",
   "language": "python",
   "name": "python3"
  },
  "language_info": {
   "codemirror_mode": {
    "name": "ipython",
    "version": 3
   },
   "file_extension": ".py",
   "mimetype": "text/x-python",
   "name": "python",
   "nbconvert_exporter": "python",
   "pygments_lexer": "ipython3",
   "version": "3.7.6"
  }
 },
 "nbformat": 4,
 "nbformat_minor": 4
}
